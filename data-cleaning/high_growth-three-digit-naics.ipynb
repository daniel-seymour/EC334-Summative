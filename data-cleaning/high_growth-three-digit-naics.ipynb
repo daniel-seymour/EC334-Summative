{
 "cells": [
  {
   "cell_type": "code",
   "execution_count": 2,
   "id": "88a987ab",
   "metadata": {},
   "outputs": [],
   "source": [
    "import pandas as pd\n",
    "filepath = '../raw_data/dynamism_data/bds2022_gr_vcn3.csv'\n",
    "df = pd.read_csv(filepath, encoding='latin1', low_memory=False)"
   ]
  },
  {
   "cell_type": "code",
   "execution_count": 4,
   "id": "1cfa4cfc",
   "metadata": {},
   "outputs": [
    {
     "name": "stdout",
     "output_type": "stream",
     "text": [
      "Number of NaN values in fempgr_gr: 0\n",
      "Total rows: 34830\n",
      "Data type of fempgr_gr: object\n",
      "\n",
      "First 10 values of fempgr_gr:\n",
      "0    a) -2\n",
      "1    a) -2\n",
      "2    a) -2\n",
      "3    a) -2\n",
      "4    a) -2\n",
      "5    a) -2\n",
      "6    a) -2\n",
      "7    a) -2\n",
      "8    a) -2\n",
      "9    a) -2\n",
      "Name: fempgr_gr, dtype: object\n",
      "\n",
      "Any non-NaN values? True\n"
     ]
    }
   ],
   "source": [
    "print(\"Number of NaN values in fempgr_gr:\", df['fempgr_gr'].isna().sum())\n",
    "print(\"Total rows:\", len(df))\n",
    "\n",
    "print(\"Data type of fempgr_gr:\", df['fempgr_gr'].dtype)\n",
    "print(\"\\nFirst 10 values of fempgr_gr:\")\n",
    "print(df['fempgr_gr'].head(10))\n",
    "\n",
    "print(\"\\nAny non-NaN values?\", df['fempgr_gr'].notna().any())"
   ]
  },
  {
   "cell_type": "code",
   "execution_count": 5,
   "id": "6082683c",
   "metadata": {},
   "outputs": [
    {
     "data": {
      "text/plain": [
       "array(['a) -2', 'b) (-2 to -0.8]', 'c) (-0.8 to -0.2]',\n",
       "       'd) (-0.2 to -0.01]', 'e) (-0.01 to 0.01)', 'f) [0.01 to 0.2)',\n",
       "       'g) [0.2 to 0.8)', 'h) [0.8 to 2)', 'i) 2'], dtype=object)"
      ]
     },
     "execution_count": 5,
     "metadata": {},
     "output_type": "execute_result"
    }
   ],
   "source": [
    "df['fempgr_gr'].unique()"
   ]
  },
  {
   "cell_type": "code",
   "execution_count": 7,
   "id": "31241f56",
   "metadata": {},
   "outputs": [
    {
     "name": "stdout",
     "output_type": "stream",
     "text": [
      "   year  vcnaics3  pct_high_growth_emp\n",
      "0  1978       113            17.914801\n",
      "1  1978       114            34.516995\n",
      "2  1978       115            20.457569\n",
      "3  1978       211             7.053673\n",
      "4  1978       212             5.547968\n",
      "5  1978       213            12.482739\n",
      "6  1978       221             0.485486\n",
      "7  1978       236            25.748477\n",
      "8  1978       237            14.338048\n",
      "9  1978       238            20.385673\n",
      "\n",
      "Dataframe shape: (3870, 3)\n"
     ]
    }
   ],
   "source": [
    "df['emp'] = pd.to_numeric(df['emp'], errors='coerce')\n",
    "df['is_high_growth'] = df['fempgr_gr'].isin(['h) [0.8 to 2)', 'i) 2']).astype(int)\n",
    "df['emp_high_growth'] = df['emp'] * df['is_high_growth']\n",
    "\n",
    "hgfs_by_industry = df.groupby(['year', 'vcnaics3']).agg({\n",
    "    'emp_high_growth': 'sum',\n",
    "    'emp': 'sum'\n",
    "}).reset_index()\n",
    "\n",
    "hgfs_by_industry['pct_high_growth_emp'] = (hgfs_by_industry['emp_high_growth'] / hgfs_by_industry['emp']) * 100\n",
    "hgfs_by_industry = hgfs_by_industry[['year', 'vcnaics3', 'pct_high_growth_emp']]\n",
    "hgfs_by_industry = hgfs_by_industry.sort_values(['year', 'vcnaics3']).reset_index(drop=True)\n",
    "\n",
    "print(hgfs_by_industry.head(10))\n",
    "print(f\"\\nDataframe shape: {hgfs_by_industry.shape}\")"
   ]
  },
  {
   "cell_type": "code",
   "execution_count": 8,
   "id": "68507077",
   "metadata": {},
   "outputs": [
    {
     "name": "stdout",
     "output_type": "stream",
     "text": [
      "CSV file saved to: ../processed_data/hgfs_by_industry.csv\n"
     ]
    }
   ],
   "source": [
    "output_path = '../processed_data/hgfs_by_industry.csv'\n",
    "hgfs_by_industry.to_csv(output_path, index=False)\n",
    "\n",
    "print(f\"CSV file saved to: {output_path}\")"
   ]
  }
 ],
 "metadata": {
  "kernelspec": {
   "display_name": "Python 3 (ipykernel)",
   "language": "python",
   "name": "python3"
  },
  "language_info": {
   "codemirror_mode": {
    "name": "ipython",
    "version": 3
   },
   "file_extension": ".py",
   "mimetype": "text/x-python",
   "name": "python",
   "nbconvert_exporter": "python",
   "pygments_lexer": "ipython3",
   "version": "3.12.3"
  }
 },
 "nbformat": 4,
 "nbformat_minor": 5
}
