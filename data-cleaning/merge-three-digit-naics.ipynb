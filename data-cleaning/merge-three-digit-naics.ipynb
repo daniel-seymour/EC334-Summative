{
 "cells": [
  {
   "cell_type": "code",
   "execution_count": 3,
   "id": "5661252d",
   "metadata": {},
   "outputs": [],
   "source": [
    "import pandas as pd\n",
    "\n",
    "sectoral_tfp_df_file_path = '../raw_data/productivity_data/major-industry-total-factor-productivity-klems.xlsx'\n",
    "sectoral_tfp_df = pd.read_excel(sectoral_tfp_df_file_path, header=2)\n",
    "\n",
    "bds_3_df_file_path = '../raw_data/dynamism_data/bds2022_vcn3.csv'\n",
    "bds_3_df = pd.read_csv(bds_3_df_file_path)"
   ]
  },
  {
   "cell_type": "code",
   "execution_count": 4,
   "id": "459ddb52-7334-4bd1-9238-b35c2e15ce86",
   "metadata": {},
   "outputs": [
    {
     "data": {
      "text/plain": [
       "array(['11', '111-112', '113-115', '21', '211', '212', '213', '22', '23',\n",
       "       'MN', 'DM', 'ND', '321', '327', '331', '332', '333', '334', '335',\n",
       "       '3361-3363', '3364-3369', '337', '339', '311-312', '313-314',\n",
       "       '315-316', '322', '323', '324', '325', '326', '42,44-45', '42',\n",
       "       '44,45', '48-49', '481', '482', '483', '484', '485', '486',\n",
       "       '487,488,492', '493', '51', '511', '512', '515,517', '518-519',\n",
       "       '52-53', '52', '521-522', '523', '524', '525', '53', '531',\n",
       "       '532-533', '54-81', '54-56', '54', '5411', '5415',\n",
       "       '5412-5414,5416-5419', '55', '56', '561', '562', '61-62', '61',\n",
       "       '62', '621', '622-623', '624', '71-72', '71', '711-712', '713',\n",
       "       '72', '721', '722', '81'], dtype=object)"
      ]
     },
     "execution_count": 4,
     "metadata": {},
     "output_type": "execute_result"
    }
   ],
   "source": [
    "sectoral_tfp_df['NAICS'].unique()"
   ]
  },
  {
   "cell_type": "code",
   "execution_count": 5,
   "id": "5853ddae",
   "metadata": {},
   "outputs": [],
   "source": [
    "sectoral_tfp_df['NAICS'] = sectoral_tfp_df['NAICS'].replace({\n",
    "    'MN': '31-33',  \n",
    "    'DM': '33',     \n",
    "    'ND': '31'      \n",
    "})"
   ]
  },
  {
   "cell_type": "code",
   "execution_count": 6,
   "id": "2a42590a",
   "metadata": {},
   "outputs": [
    {
     "data": {
      "text/plain": [
       "array(['11', '111-112', '113-115', '21', '211', '212', '213', '22', '23',\n",
       "       '31-33', '33', '31', '321', '327', '331', '332', '333', '334',\n",
       "       '335', '3361-3363', '3364-3369', '337', '339', '311-312',\n",
       "       '313-314', '315-316', '322', '323', '324', '325', '326',\n",
       "       '42,44-45', '42', '44,45', '48-49', '481', '482', '483', '484',\n",
       "       '485', '486', '487,488,492', '493', '51', '511', '512', '515,517',\n",
       "       '518-519', '52-53', '52', '521-522', '523', '524', '525', '53',\n",
       "       '531', '532-533', '54-81', '54-56', '54', '5411', '5415',\n",
       "       '5412-5414,5416-5419', '55', '56', '561', '562', '61-62', '61',\n",
       "       '62', '621', '622-623', '624', '71-72', '71', '711-712', '713',\n",
       "       '72', '721', '722', '81'], dtype=object)"
      ]
     },
     "execution_count": 6,
     "metadata": {},
     "output_type": "execute_result"
    }
   ],
   "source": [
    "sectoral_tfp_df['NAICS'].unique()"
   ]
  },
  {
   "cell_type": "code",
   "execution_count": 7,
   "id": "bd8a209d",
   "metadata": {},
   "outputs": [
    {
     "name": "stdout",
     "output_type": "stream",
     "text": [
      "['211', '212', '213', '321', '322', '323', '324', '325', '326', '327', '331', '332', '333', '334', '335', '337', '339', '481', '482', '483', '484', '485', '486', '493', '511', '512', '523', '524', '525', '531', '561', '562', '621', '624', '713', '721', '722']\n"
     ]
    }
   ],
   "source": [
    "three_digit_sectoral_df = sectoral_tfp_df[sectoral_tfp_df['NAICS'].str.len() == 3].copy()\n",
    "\n",
    "print(sorted(three_digit_sectoral_df['NAICS'].unique()))"
   ]
  },
  {
   "cell_type": "code",
   "execution_count": 8,
   "id": "b8648b1b",
   "metadata": {},
   "outputs": [],
   "source": [
    "long_df = three_digit_sectoral_df.melt(\n",
    "    id_vars=['NAICS', 'Industry', 'Basis', 'Measure', 'Units'], \n",
    "    var_name='year', \n",
    "    value_name='value' \n",
    ")"
   ]
  },
  {
   "cell_type": "code",
   "execution_count": 9,
   "id": "aadafbe1",
   "metadata": {},
   "outputs": [],
   "source": [
    "tfp_long = long_df[long_df['Measure'] == 'Total factor productivity'].copy()\n",
    "output_long = long_df[long_df['Measure'] == 'Sectoral output'].copy()"
   ]
  },
  {
   "cell_type": "code",
   "execution_count": 10,
   "id": "29c75ac3",
   "metadata": {},
   "outputs": [
    {
     "name": "stderr",
     "output_type": "stream",
     "text": [
      "C:\\Users\\Lamb\\AppData\\Local\\Temp\\ipykernel_25572\\4150187125.py:1: FutureWarning: Downcasting object dtype arrays on .fillna, .ffill, .bfill is deprecated and will change in a future version. Call result.infer_objects(copy=False) instead. To opt-in to the future behavior, set `pd.set_option('future.no_silent_downcasting', True)`\n",
      "  output_pivot = output_long.pivot_table(\n"
     ]
    }
   ],
   "source": [
    "output_pivot = output_long.pivot_table(\n",
    "    values='value', \n",
    "    index='year', \n",
    "    columns='NAICS', \n",
    "    aggfunc='sum',\n",
    "    fill_value=0\n",
    ")\n",
    "\n",
    "weights = (\n",
    "    output_pivot.apply(lambda row: row / (row.sum() + 1e-10), axis=1)\n",
    "    .stack()\n",
    "    .reset_index()\n",
    "    .rename(columns={0: 'weight'})\n",
    ")\n",
    "\n",
    "# Merge weights with TFP data\n",
    "tfp_with_weights = tfp_long.merge(\n",
    "    weights,\n",
    "    on=['year', 'NAICS'],\n",
    "    how='left'\n",
    ").fillna({'weight': 0})"
   ]
  },
  {
   "cell_type": "code",
   "execution_count": 11,
   "id": "2aad41de",
   "metadata": {},
   "outputs": [
    {
     "name": "stdout",
     "output_type": "stream",
     "text": [
      "Units used for Total factor productivity:\n",
      " Units\n",
      "Index (2017=100)               1369\n",
      "% Change from previous year    1369\n",
      "Name: count, dtype: int64\n"
     ]
    }
   ],
   "source": [
    "tfp_units = tfp_with_weights['Units'].value_counts()\n",
    "print(\"Units used for Total factor productivity:\\n\", tfp_units)\n",
    "\n",
    "tfp_pivoted = tfp_with_weights.pivot(\n",
    "    index=['NAICS', 'Industry', 'Basis', 'year', 'weight'],\n",
    "    columns='Units',\n",
    "    values='value'\n",
    ").reset_index()\n",
    "\n",
    "tfp_pivoted.columns.name = None\n",
    "\n",
    "tfp_pivoted = tfp_pivoted.rename(columns={\n",
    "    'Index (2017=100)': 'tfp_index_2017',\n",
    "    '% Change from previous year': 'tfp_pct_change'\n",
    "})"
   ]
  },
  {
   "cell_type": "code",
   "execution_count": 12,
   "id": "0cf96cd5",
   "metadata": {},
   "outputs": [],
   "source": [
    "bds_3_df = bds_3_df.rename(columns={'vcnaics3': 'NAICS'})"
   ]
  },
  {
   "cell_type": "code",
   "execution_count": 13,
   "id": "05deda5f",
   "metadata": {},
   "outputs": [],
   "source": [
    "bds_3_df['year'] = bds_3_df['year'].astype(int)\n",
    "bds_87_on = bds_3_df[bds_3_df['year'] >= 1987]"
   ]
  },
  {
   "cell_type": "code",
   "execution_count": 14,
   "id": "8f745096",
   "metadata": {},
   "outputs": [
    {
     "name": "stdout",
     "output_type": "stream",
     "text": [
      "bds_87_on NAICS unique values: [113 114 115 211 212]\n",
      "tfp_pivoted NAICS unique values: ['211' '212' '213' '321' '322']\n"
     ]
    }
   ],
   "source": [
    "print(\"bds_87_on NAICS unique values:\", bds_87_on['NAICS'].unique()[:5])\n",
    "print(\"tfp_pivoted NAICS unique values:\", tfp_pivoted['NAICS'].unique()[:5])"
   ]
  },
  {
   "cell_type": "code",
   "execution_count": 15,
   "id": "9190d3a0",
   "metadata": {},
   "outputs": [
    {
     "name": "stdout",
     "output_type": "stream",
     "text": [
      "bds_87_on columns: ['year', 'NAICS', 'firms', 'estabs', 'emp', 'denom', 'estabs_entry', 'estabs_entry_rate', 'estabs_exit', 'estabs_exit_rate', 'job_creation', 'job_creation_births', 'job_creation_continuers', 'job_creation_rate_births', 'job_creation_rate', 'job_destruction', 'job_destruction_deaths', 'job_destruction_continuers', 'job_destruction_rate_deaths', 'job_destruction_rate', 'net_job_creation', 'net_job_creation_rate', 'reallocation_rate', 'firmdeath_firms', 'firmdeath_estabs', 'firmdeath_emp']\n",
      "tfp_pivoted columns: ['NAICS', 'Industry', 'Basis', 'year', 'weight', 'tfp_pct_change', 'tfp_index_2017']\n"
     ]
    }
   ],
   "source": [
    "print(\"bds_87_on columns:\", bds_87_on.columns.tolist())\n",
    "print(\"tfp_pivoted columns:\", tfp_pivoted.columns.tolist())"
   ]
  },
  {
   "cell_type": "code",
   "execution_count": 16,
   "id": "b9a8683c",
   "metadata": {},
   "outputs": [],
   "source": [
    "bds_87_on = bds_87_on.copy()\n",
    "bds_87_on['NAICS'] = bds_87_on['NAICS'].astype(str)\n",
    "tfp_pivoted['NAICS'] = tfp_pivoted['NAICS'].astype(str)"
   ]
  },
  {
   "cell_type": "code",
   "execution_count": 17,
   "id": "07f510c1",
   "metadata": {},
   "outputs": [],
   "source": [
    "tfp_pivoted['year'] = tfp_pivoted['year'].astype(int)\n",
    "\n",
    "# 6) Now merge\n",
    "merged = pd.merge(\n",
    "    bds_87_on,\n",
    "    tfp_pivoted, \n",
    "    on=['NAICS','year'],   \n",
    "    how='inner'\n",
    ")"
   ]
  },
  {
   "cell_type": "code",
   "execution_count": 18,
   "id": "009836de",
   "metadata": {},
   "outputs": [],
   "source": [
    "object_columns = [\n",
    "    'estabs_entry', 'estabs_entry_rate', 'estabs_exit', 'estabs_exit_rate',\n",
    "    'job_creation_births', 'job_creation_rate_births', 'job_destruction_deaths',\n",
    "    'job_destruction_rate_deaths', 'firmdeath_estabs',\n",
    "    'tfp_pct_change', 'tfp_index_2017'\n",
    "]\n",
    "\n",
    "for col in object_columns:\n",
    "    merged[col] = pd.to_numeric(merged[col], errors='coerce')"
   ]
  },
  {
   "cell_type": "code",
   "execution_count": 19,
   "id": "f77347ec",
   "metadata": {},
   "outputs": [],
   "source": [
    "pd.set_option('display.max_columns', None)\n",
    "pd.set_option('display.max_rows', None)"
   ]
  },
  {
   "cell_type": "code",
   "execution_count": 20,
   "id": "63b6b1fe",
   "metadata": {},
   "outputs": [],
   "source": [
    "merged['firmdeath_firms'] = pd.to_numeric(merged['firmdeath_firms'], errors='coerce')\n",
    "merged['firms'] = pd.to_numeric(merged['firms'], errors='coerce')\n",
    "merged['firms_percent_destroyed'] = (merged['firmdeath_firms'] / merged['firms']) * 100"
   ]
  },
  {
   "cell_type": "code",
   "execution_count": 21,
   "id": "e764450b",
   "metadata": {},
   "outputs": [
    {
     "name": "stdout",
     "output_type": "stream",
     "text": [
      "Data saved to ../processed_data/three_digit_NAICS_bds_tfp.csv\n"
     ]
    }
   ],
   "source": [
    "output_path = '../processed_data/three_digit_NAICS_bds_tfp.csv'\n",
    "merged.to_csv(output_path, index=False)\n",
    "print(f\"Data saved to {output_path}\")"
   ]
  }
 ],
 "metadata": {
  "kernelspec": {
   "display_name": "Python 3 (ipykernel)",
   "language": "python",
   "name": "python3"
  },
  "language_info": {
   "codemirror_mode": {
    "name": "ipython",
    "version": 3
   },
   "file_extension": ".py",
   "mimetype": "text/x-python",
   "name": "python",
   "nbconvert_exporter": "python",
   "pygments_lexer": "ipython3",
   "version": "3.12.3"
  }
 },
 "nbformat": 4,
 "nbformat_minor": 5
}
