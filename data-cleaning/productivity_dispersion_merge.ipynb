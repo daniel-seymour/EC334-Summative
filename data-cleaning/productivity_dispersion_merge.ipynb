{
 "cells": [
  {
   "cell_type": "code",
   "execution_count": 15,
   "id": "04f1c960",
   "metadata": {},
   "outputs": [],
   "source": [
    "import pandas as pd\n",
    "import numpy as np\n",
    "from linearmodels.panel import PanelOLS\n",
    "import statsmodels.api as sm\n",
    "from scipy import stats  "
   ]
  },
  {
   "cell_type": "code",
   "execution_count": 17,
   "id": "92948694",
   "metadata": {},
   "outputs": [],
   "source": [
    "filepath = '../raw_data/productivity_data/total_factor_productivity.csv'\n",
    "tfp_disp_df = pd.read_csv(filepath, encoding='latin1')"
   ]
  },
  {
   "cell_type": "code",
   "execution_count": 18,
   "id": "99aef027",
   "metadata": {},
   "outputs": [],
   "source": [
    "filepath = '../processed_data/tfp_four_digit_pivoted.csv'\n",
    "manufacturing_tfp = pd.read_csv(filepath)"
   ]
  },
  {
   "cell_type": "code",
   "execution_count": 20,
   "id": "a7a51290",
   "metadata": {},
   "outputs": [],
   "source": [
    "filepath = '../raw_data/dynamism_data/bds2022_vcn4.csv'\n",
    "bds2022_vcn4 = pd.read_csv(filepath, encoding='latin1')"
   ]
  },
  {
   "cell_type": "code",
   "execution_count": 21,
   "id": "a16e287d",
   "metadata": {},
   "outputs": [],
   "source": [
    "tfp_disp_df['naics4'] = tfp_disp_df['naics4'].astype(str)\n",
    "bds2022_vcn4['vcnaics4'] = bds2022_vcn4['vcnaics4'].astype(str)\n",
    "\n",
    "temp_df = pd.merge(\n",
    "\ttfp_disp_df, \n",
    "\tbds2022_vcn4, \n",
    "\thow='inner', \n",
    "\tleft_on=['naics4', 'year'], \n",
    "\tright_on=['vcnaics4', 'year']\n",
    ")"
   ]
  },
  {
   "cell_type": "code",
   "execution_count": 22,
   "id": "e3229801",
   "metadata": {},
   "outputs": [],
   "source": [
    "temp_df['naics4'] = pd.to_numeric(temp_df['naics4'], errors='raise').astype('int64')\n",
    "manufacturing_tfp['NAICS'] = pd.to_numeric(manufacturing_tfp['NAICS'], errors='raise').astype('int64')\n",
    "\n",
    "temp_df['year'] = temp_df['year'].astype(int)\n",
    "manufacturing_tfp['year'] = pd.to_numeric(manufacturing_tfp['year'], errors='coerce').astype('Int64')\n",
    "manufacturing_tfp = manufacturing_tfp.dropna(subset=['year'])\n",
    "manufacturing_tfp['year'] = manufacturing_tfp['year'].astype(int)\n",
    "\n",
    "merged_df = pd.merge(\n",
    "    temp_df,\n",
    "    manufacturing_tfp,\n",
    "    how='inner',\n",
    "    left_on = ['naics4', 'year'],\n",
    "    right_on= ['NAICS',  'year']\n",
    ")"
   ]
  },
  {
   "cell_type": "code",
   "execution_count": 23,
   "id": "4016387d",
   "metadata": {},
   "outputs": [],
   "source": [
    "merged_df['tfp_pct_change'] = pd.to_numeric(\n",
    "    merged_df['tfp_pct_change'],\n",
    "    errors='coerce'\n",
    ")\n",
    "merged_df['tfp_index_2017'] = pd.to_numeric(\n",
    "    merged_df['tfp_index_2017'],\n",
    "    errors='coerce')"
   ]
  },
  {
   "cell_type": "code",
   "execution_count": 25,
   "id": "f8df1b48",
   "metadata": {},
   "outputs": [
    {
     "name": "stdout",
     "output_type": "stream",
     "text": [
      "Converting object columns to numeric...\n",
      "  d9990: converted (17 NaN values created)\n",
      "  d1001: converted (16 NaN values created)\n",
      "  d9990*: converted (8 NaN values created)\n",
      "  d1001*: converted (8 NaN values created)\n",
      "  estabs_entry: converted successfully\n",
      "  estabs_exit: converted successfully\n",
      "  firmdeath_firms: converted (4 NaN values created)\n",
      "  firmdeath_estabs: converted (4 NaN values created)\n",
      "  firmdeath_emp: converted (4 NaN values created)\n",
      "  estabs_entry_rate: converted successfully\n",
      "  estabs_exit_rate: converted successfully\n",
      "  job_creation_births: converted successfully\n",
      "  job_creation_continuers: converted successfully\n",
      "  job_destruction_deaths: converted successfully\n",
      "  job_destruction_continuers: converted successfully\n",
      "  job_creation_rate_births: converted successfully\n",
      "  job_destruction_rate_deaths: converted successfully\n"
     ]
    }
   ],
   "source": [
    "columns_to_convert = [\n",
    "    # Dispersion measures\n",
    "    'd9990', 'd1001', 'd9990*', 'd1001*',\n",
    "    \n",
    "    # Entry/exit counts\n",
    "    'estabs_entry', 'estabs_exit',\n",
    "    'firmdeath_firms', 'firmdeath_estabs', 'firmdeath_emp',\n",
    "    \n",
    "    # Entry/exit rates  \n",
    "    'estabs_entry_rate', 'estabs_exit_rate',\n",
    "    \n",
    "    # Job flow counts\n",
    "    'job_creation_births', 'job_creation_continuers',\n",
    "    'job_destruction_deaths', 'job_destruction_continuers',\n",
    "    \n",
    "    # Job flow rates\n",
    "    'job_creation_rate_births', 'job_destruction_rate_deaths'\n",
    "]\n",
    "\n",
    "print(\"Converting object columns to numeric...\")\n",
    "for col in columns_to_convert:\n",
    "    if col in merged_df.columns and merged_df[col].dtype == 'object':\n",
    "        merged_df[col] = pd.to_numeric(merged_df[col], errors='coerce')\n",
    "        nan_count = merged_df[col].isna().sum()\n",
    "        if nan_count > 0:\n",
    "            print(f\"  {col}: converted ({nan_count} NaN values created)\")\n",
    "        else:\n",
    "            print(f\"  {col}: converted successfully\")"
   ]
  },
  {
   "cell_type": "code",
   "execution_count": 26,
   "id": "e21be507",
   "metadata": {},
   "outputs": [],
   "source": [
    "agg_dict = {\n",
    "   # DISPERSION MEASURES - AVERAGE within 2-year window\n",
    "   'sd': 'mean',\n",
    "   'd7525': 'mean',\n",
    "   'd9010': 'mean',\n",
    "   'd9990': 'mean',\n",
    "   'd1001': 'mean',\n",
    "   'sd*': 'mean',\n",
    "   'd7525*': 'mean',\n",
    "   'd9010*': 'mean',\n",
    "   'd9990*': 'mean',\n",
    "   'd1001*': 'mean',\n",
    "\n",
    "   # TFP metrics\n",
    "   'tfp_pct_change': 'mean',     # average % change over the 2-year window\n",
    "   'tfp_index_2017': 'last',     # index level at the end of the window\n",
    "\n",
    "   # STOCK VARIABLES - LAST value (end of period snapshot)\n",
    "   'firms': 'last',\n",
    "   'estabs': 'last',\n",
    "   'emp': 'last',\n",
    "   'denom': 'last',\n",
    "\n",
    "   # ENTRY/EXIT COUNTS - SUM across 2 years\n",
    "   'estabs_entry': 'sum',\n",
    "   'estabs_exit': 'sum',\n",
    "   'firmdeath_firms': 'sum',\n",
    "   'firmdeath_estabs': 'sum',\n",
    "   'firmdeath_emp': 'sum',\n",
    "\n",
    "   # ENTRY/EXIT RATES - AVERAGE across 2 years\n",
    "   'estabs_entry_rate': 'mean',\n",
    "   'estabs_exit_rate': 'mean',\n",
    "\n",
    "   # JOB FLOW COUNTS - SUM across 2 years\n",
    "   'job_creation': 'sum',\n",
    "   'job_creation_births': 'sum',\n",
    "   'job_creation_continuers': 'sum',\n",
    "   'job_destruction': 'sum',\n",
    "   'job_destruction_deaths': 'sum',\n",
    "   'job_destruction_continuers': 'sum',\n",
    "   'net_job_creation': 'sum',\n",
    "\n",
    "   # JOB FLOW RATES - AVERAGE across 2 years\n",
    "   'job_creation_rate': 'mean',\n",
    "   'job_creation_rate_births': 'mean',\n",
    "   'job_destruction_rate': 'mean',\n",
    "   'job_destruction_rate_deaths': 'mean',\n",
    "   'net_job_creation_rate': 'mean',\n",
    "   'reallocation_rate': 'mean',\n",
    "}"
   ]
  }
 ],
 "metadata": {
  "kernelspec": {
   "display_name": "Python 3 (ipykernel)",
   "language": "python",
   "name": "python3"
  },
  "language_info": {
   "codemirror_mode": {
    "name": "ipython",
    "version": 3
   },
   "file_extension": ".py",
   "mimetype": "text/x-python",
   "name": "python",
   "nbconvert_exporter": "python",
   "pygments_lexer": "ipython3",
   "version": "3.12.3"
  }
 },
 "nbformat": 4,
 "nbformat_minor": 5
}
