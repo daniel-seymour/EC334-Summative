{
 "cells": [
  {
   "cell_type": "code",
   "execution_count": 16,
   "id": "ddf97f33",
   "metadata": {},
   "outputs": [],
   "source": [
    "import pandas as pd\n",
    "filepath = '../raw_data/dynamism_data/bds2022_gr_vcn4.csv'\n",
    "df = pd.read_csv(filepath, encoding='latin1')"
   ]
  },
  {
   "cell_type": "code",
   "execution_count": 14,
   "id": "b157c68f",
   "metadata": {},
   "outputs": [
    {
     "name": "stdout",
     "output_type": "stream",
     "text": [
      "Number of NaN values in fempgr_gr: 0\n",
      "Total rows: 116640\n",
      "Data type of fempgr_gr: object\n",
      "\n",
      "First 10 values of fempgr_gr:\n",
      "0    a) -2\n",
      "1    a) -2\n",
      "2    a) -2\n",
      "3    a) -2\n",
      "4    a) -2\n",
      "5    a) -2\n",
      "6    a) -2\n",
      "7    a) -2\n",
      "8    a) -2\n",
      "9    a) -2\n",
      "Name: fempgr_gr, dtype: object\n",
      "\n",
      "Any non-NaN values? True\n"
     ]
    }
   ],
   "source": [
    "print(\"Number of NaN values in fempgr_gr:\", df['fempgr_gr'].isna().sum())\n",
    "print(\"Total rows:\", len(df))\n",
    "\n",
    "print(\"Data type of fempgr_gr:\", df['fempgr_gr'].dtype)\n",
    "\n",
    "print(\"\\nFirst 10 values of fempgr_gr:\")\n",
    "print(df['fempgr_gr'].head(10))\n",
    "\n",
    "print(\"\\nAny non-NaN values?\", df['fempgr_gr'].notna().any())"
   ]
  },
  {
   "cell_type": "code",
   "execution_count": 20,
   "id": "f326955f",
   "metadata": {},
   "outputs": [
    {
     "name": "stdout",
     "output_type": "stream",
     "text": [
      "\n",
      "CSV file saved to: ../processed_data/hgfs_by_industry_naics4.csv\n",
      "File contains 12960 rows\n"
     ]
    }
   ],
   "source": [
    "df['emp'] = pd.to_numeric(df['emp'], errors='coerce')\n",
    "\n",
    "df['is_high_growth'] = df['fempgr_gr'].isin(['h) [0.8 to 2)', 'i) 2']).astype(int)\n",
    "\n",
    "df['emp_high_growth'] = df['emp'] * df['is_high_growth']\n",
    "\n",
    "hgfs_by_industry = df.groupby(['year', 'vcnaics4']).agg({\n",
    "    'emp_high_growth': 'sum',\n",
    "    'emp': 'sum'\n",
    "}).reset_index()\n",
    "\n",
    "hgfs_by_industry['pct_high_growth_emp'] = (hgfs_by_industry['emp_high_growth'] / hgfs_by_industry['emp']) * 100\n",
    "\n",
    "hgfs_by_industry = hgfs_by_industry[['year', 'vcnaics4', 'pct_high_growth_emp']]\n",
    "\n",
    "hgfs_by_industry = hgfs_by_industry.sort_values(['year', 'vcnaics4']).reset_index(drop=True)\n",
    "\n",
    "output_path = '../processed_data/hgfs_by_industry_naics4.csv'\n",
    "hgfs_by_industry.to_csv(output_path, index=False)\n",
    "print(f\"\\nCSV file saved to: {output_path}\")\n",
    "print(f\"File contains {len(hgfs_by_industry)} rows\")"
   ]
  }
 ],
 "metadata": {
  "kernelspec": {
   "display_name": "Python 3 (ipykernel)",
   "language": "python",
   "name": "python3"
  },
  "language_info": {
   "codemirror_mode": {
    "name": "ipython",
    "version": 3
   },
   "file_extension": ".py",
   "mimetype": "text/x-python",
   "name": "python",
   "nbconvert_exporter": "python",
   "pygments_lexer": "ipython3",
   "version": "3.12.3"
  }
 },
 "nbformat": 4,
 "nbformat_minor": 5
}
