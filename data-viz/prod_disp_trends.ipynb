{
 "cells": [
  {
   "cell_type": "code",
   "execution_count": 1,
   "id": "6cbe3453",
   "metadata": {},
   "outputs": [],
   "source": [
    "import pandas as pd\n",
    "import numpy as np\n",
    "from linearmodels.panel import PanelOLS\n",
    "import statsmodels.api as sm\n",
    "from scipy import stats \n",
    "import matplotlib.pyplot as plt\n",
    "import os"
   ]
  },
  {
   "cell_type": "code",
   "execution_count": 2,
   "id": "736e5d86",
   "metadata": {},
   "outputs": [],
   "source": [
    "filepath = '../raw_data/productivity_data/total_factor_productivity.csv'\n",
    "try:\n",
    "\tdisp_df = pd.read_csv(filepath)\n",
    "except UnicodeDecodeError:\n",
    "\tdisp_df = pd.read_csv(filepath, encoding='latin1')"
   ]
  },
  {
   "cell_type": "code",
   "execution_count": 5,
   "id": "fcb4ffab",
   "metadata": {},
   "outputs": [],
   "source": [
    "df = disp_df.copy()"
   ]
  },
  {
   "cell_type": "code",
   "execution_count": null,
   "id": "0a4a5046",
   "metadata": {},
   "outputs": [],
   "source": [
    "plt.figure(figsize=(12, 6), dpi=120)\n",
    "ax = plt.subplot(111)\n",
    "ax.set_facecolor('white')\n",
    "ax.spines['top'].set_visible(False)\n",
    "ax.spines['right'].set_visible(False)\n",
    "ax.grid(which='major', linestyle=':', linewidth=0.7, alpha=0.7)\n",
    "ax.set_axisbelow(True)\n",
    "\n",
    "industries = df['naics4'].unique()\n",
    "for industry in industries:\n",
    "    subset = df[df['naics4'] == industry]\n",
    "    plt.plot(subset['year'], subset['d7525*'], \n",
    "             alpha=0.3, linewidth=0.8, color='grey')\n",
    "\n",
    "if 'weight' in df.columns:\n",
    "    weighted_avg = df.groupby('year').apply(\n",
    "        lambda x: np.average(x['d7525*'], weights=x['weight'])\n",
    "    )\n",
    "    plt.plot(weighted_avg.index, weighted_avg.values, \n",
    "             linewidth=3, color='#1f77b4', label='Weighted average dispersion')\n",
    "else:\n",
    "    average_by_year = df.groupby('year')['d7525*'].mean()\n",
    "    plt.plot(average_by_year.index, average_by_year.values, \n",
    "             linewidth=3, color='#1f77b4', label='Average dispersion')\n",
    "\n",
    "plt.xlabel('Year', fontsize=12)\n",
    "plt.ylabel('Interquartile Range (75-25 percentile difference)', fontsize=12)\n",
    "plt.title('Industry Dispersion Trends', fontsize=14)\n",
    "plt.legend()\n",
    "plt.tight_layout()\n",
    "\n",
    "\n",
    "plt.savefig('../figures/dispersion_trends.png', \n",
    "            dpi=300, bbox_inches='tight')\n",
    "plt.show()"
   ]
  },
  {
   "cell_type": "code",
   "execution_count": null,
   "id": "ece98a09",
   "metadata": {},
   "outputs": [],
   "source": [
    "for col in ['d7525*', 'd9010*', 'd9990*', 'd1001*']:\n",
    "    df[col] = pd.to_numeric(df[col], errors='coerce')\n",
    "\n",
    "avg_dispersion = df.groupby('year')[['d7525*', 'd9010*', 'd9990*', 'd1001*']].mean()\n",
    "\n",
    "normalized = avg_dispersion.div(avg_dispersion.iloc[0])  \n",
    "plt.figure(figsize=(12, 6), dpi=120)\n",
    "ax = plt.subplot(111)\n",
    "ax.set_facecolor('white')\n",
    "ax.spines['top'].set_visible(False)\n",
    "ax.spines['right'].set_visible(False)\n",
    "ax.grid(which='major', linestyle=':', linewidth=0.7, alpha=0.7)\n",
    "ax.set_axisbelow(True)\n",
    "\n",
    "plt.plot(normalized.index, normalized['d7525*'], \n",
    "         linewidth=2, marker='o', markersize=4, label='75-25 percentile')\n",
    "plt.plot(normalized.index, normalized['d9010*'], \n",
    "         linewidth=2, marker='s', markersize=4, label='90-10 percentile')\n",
    "plt.plot(normalized.index, normalized['d9990*'], \n",
    "         linewidth=2, marker='^', markersize=4, label='99-90 percentile')\n",
    "plt.plot(normalized.index, normalized['d1001*'], \n",
    "         linewidth=2, marker='d', markersize=4, label='10-1 percentile')\n",
    "\n",
    "plt.xlabel('Year', fontsize=12)\n",
    "plt.ylabel('Normalized Dispersion (Base Year = 1)', fontsize=12)\n",
    "plt.title('Comparison of Dispersion Measures Over Time', fontsize=14)\n",
    "plt.legend()\n",
    "plt.tight_layout()\n",
    "\n",
    "plt.savefig('../figures/dispersion_comparison.png', \n",
    "            dpi=300, bbox_inches='tight')\n",
    "plt.show()"
   ]
  },
  {
   "cell_type": "markdown",
   "id": "16183d3d",
   "metadata": {},
   "source": [
    "from this I am noticing that the difference between the 99th and 90th percentile productivity firms have increased but not much else"
   ]
  },
  {
   "cell_type": "code",
   "execution_count": null,
   "id": "03c8da49",
   "metadata": {},
   "outputs": [
    {
     "ename": "NameError",
     "evalue": "name 'measures' is not defined",
     "output_type": "error",
     "traceback": [
      "\u001b[1;31m---------------------------------------------------------------------------\u001b[0m",
      "\u001b[1;31mNameError\u001b[0m                                 Traceback (most recent call last)",
      "Cell \u001b[1;32mIn[11], line 9\u001b[0m\n\u001b[0;32m      6\u001b[0m ax\u001b[38;5;241m.\u001b[39mgrid(which\u001b[38;5;241m=\u001b[39m\u001b[38;5;124m'\u001b[39m\u001b[38;5;124mmajor\u001b[39m\u001b[38;5;124m'\u001b[39m, linestyle\u001b[38;5;241m=\u001b[39m\u001b[38;5;124m'\u001b[39m\u001b[38;5;124m:\u001b[39m\u001b[38;5;124m'\u001b[39m, linewidth\u001b[38;5;241m=\u001b[39m\u001b[38;5;241m0.7\u001b[39m, alpha\u001b[38;5;241m=\u001b[39m\u001b[38;5;241m0.7\u001b[39m)\n\u001b[0;32m      7\u001b[0m ax\u001b[38;5;241m.\u001b[39mset_axisbelow(\u001b[38;5;28;01mTrue\u001b[39;00m)\n\u001b[1;32m----> 9\u001b[0m avg_dispersion \u001b[38;5;241m=\u001b[39m df\u001b[38;5;241m.\u001b[39mgroupby(\u001b[38;5;124m'\u001b[39m\u001b[38;5;124myear\u001b[39m\u001b[38;5;124m'\u001b[39m)[measures]\u001b[38;5;241m.\u001b[39mmean()\n\u001b[0;32m     11\u001b[0m \u001b[38;5;28;01mfor\u001b[39;00m measure \u001b[38;5;129;01min\u001b[39;00m measures:\n\u001b[0;32m     12\u001b[0m     plt\u001b[38;5;241m.\u001b[39mplot(avg_dispersion\u001b[38;5;241m.\u001b[39mindex, avg_dispersion[measure], \n\u001b[0;32m     13\u001b[0m              linewidth\u001b[38;5;241m=\u001b[39m\u001b[38;5;241m2\u001b[39m, marker\u001b[38;5;241m=\u001b[39m\u001b[38;5;124m'\u001b[39m\u001b[38;5;124mo\u001b[39m\u001b[38;5;124m'\u001b[39m, markersize\u001b[38;5;241m=\u001b[39m\u001b[38;5;241m4\u001b[39m, label\u001b[38;5;241m=\u001b[39mmeasure)\n",
      "\u001b[1;31mNameError\u001b[0m: name 'measures' is not defined"
     ]
    }
   ],
   "source": [
    "plt.figure(figsize=(12, 6), dpi=120)\n",
    "ax = plt.subplot(111)\n",
    "ax.set_facecolor('white')\n",
    "ax.spines['top'].set_visible(False)\n",
    "ax.spines['right'].set_visible(False)\n",
    "ax.grid(which='major', linestyle=':', linewidth=0.7, alpha=0.7)\n",
    "ax.set_axisbelow(True)\n",
    "\n",
    "avg_dispersion = df.groupby('year')[measures].mean()\n",
    "\n",
    "for measure in measures:\n",
    "    plt.plot(avg_dispersion.index, avg_dispersion[measure], \n",
    "             linewidth=2, marker='o', markersize=4, label=measure)\n",
    "\n",
    "plt.plot(ci['Year'], ci['Spread'], \n",
    "         linewidth=2, marker='s', markersize=4, \n",
    "         color='purple', label='Bootstrapped 99-90 spread')\n",
    "\n",
    "plt.fill_between(ci['Year'], ci['CI_low'], ci['CI_high'], \n",
    "                 color='purple', alpha=0.2)\n",
    "\n",
    "plt.xlabel('Year', fontsize=12)\n",
    "plt.ylabel('Dispersion Measure', fontsize=12)\n",
    "plt.title('Comparison of Dispersion Measures Over Time', fontsize=14)\n",
    "plt.legend()\n",
    "plt.tight_layout()\n",
    "\n",
    "os.makedirs('../figures', exist_ok=True)\n",
    "plt.savefig('../figures/dispersion_with_bootstrap.png', \n",
    "            dpi=300, bbox_inches='tight')\n",
    "plt.show()"
   ]
  }
 ],
 "metadata": {
  "kernelspec": {
   "display_name": "Python 3 (ipykernel)",
   "language": "python",
   "name": "python3"
  },
  "language_info": {
   "codemirror_mode": {
    "name": "ipython",
    "version": 3
   },
   "file_extension": ".py",
   "mimetype": "text/x-python",
   "name": "python",
   "nbconvert_exporter": "python",
   "pygments_lexer": "ipython3",
   "version": "3.12.3"
  }
 },
 "nbformat": 4,
 "nbformat_minor": 5
}
