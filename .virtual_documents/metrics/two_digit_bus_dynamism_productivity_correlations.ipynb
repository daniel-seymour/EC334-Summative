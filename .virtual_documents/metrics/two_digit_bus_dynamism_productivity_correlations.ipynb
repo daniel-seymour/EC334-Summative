import pandas as pd


filepath = '../processed_data/two_digit_NAICS_bds_tfp.csv'

df = pd.read_csv(filepath)
df.head()


df.columns


df.dtypes


'''
which way round is the causality? You would think to have business dynamism on the RHS as a proxy for creative destruction
'''


# Business dynamism measures
 # 'job_creation_rate', 'job_destruction_rate'
bus_vars = [ 'reallocation_rate', 'estabs_entry_rate', 'estabs_exit_rate']

# generate lags
for v in bus_vars:
    df[f"{v}_lag"] = df.groupby("NAICS")[v].shift(1)


# Convert tfp_pct_change to numeric, replacing non-numeric values with NaN
df['tfp_pct_change'] = pd.to_numeric(df['tfp_pct_change'], errors='coerce')

# Drop rows where tfp_pct_change is NaN
df_clean = df.dropna(subset=['tfp_pct_change'])


df_clean.head()


import statsmodels.formula.api as smf

formula = (
    "tfp_pct_change ~ " +
    " + ".join(bus_vars) +                       # contemporaneous
    " + " + " + ".join([v+"_lag" for v in bus_vars]) +  # lagged
    " + C(NAICS) + C(year)"                      # industry & year FE
)

fe_mod = smf.ols(formula=formula, data=df_clean).fit(
    cov_type="cluster", cov_kwds={"groups": df_clean["year"]}
)
print(fe_mod.summary())





