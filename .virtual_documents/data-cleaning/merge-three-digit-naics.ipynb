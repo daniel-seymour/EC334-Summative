import pandas as pd

sectoral_tfp_df_file_path = '../raw_data/productivity_data/major-industry-total-factor-productivity-klems.xlsx'
sectoral_tfp_df = pd.read_excel(sectoral_tfp_df_file_path, header=2)

bds_3_df_file_path = '../raw_data/dynamism_data/bds2022_vcn3.csv'
bds_3_df = pd.read_csv(bds_3_df_file_path)


sectoral_tfp_df['NAICS'].unique()


sectoral_tfp_df['NAICS'] = sectoral_tfp_df['NAICS'].replace({
    'MN': '31-33',  
    'DM': '33',     
    'ND': '31'      
})


sectoral_tfp_df['NAICS'].unique()


three_digit_sectoral_df = sectoral_tfp_df[sectoral_tfp_df['NAICS'].str.len() == 3].copy()

print(sorted(three_digit_sectoral_df['NAICS'].unique()))


long_df = three_digit_sectoral_df.melt(
    id_vars=['NAICS', 'Industry', 'Basis', 'Measure', 'Units'], 
    var_name='year', 
    value_name='value' 
)


tfp_long = long_df[long_df['Measure'] == 'Total factor productivity'].copy()
output_long = long_df[long_df['Measure'] == 'Sectoral output'].copy()


output_pivot = output_long.pivot_table(
    values='value', 
    index='year', 
    columns='NAICS', 
    aggfunc='sum',
    fill_value=0
)

weights = (
    output_pivot.apply(lambda row: row / (row.sum() + 1e-10), axis=1)
    .stack()
    .reset_index()
    .rename(columns={0: 'weight'})
)

# Merge weights with TFP data
tfp_with_weights = tfp_long.merge(
    weights,
    on=['year', 'NAICS'],
    how='left'
).fillna({'weight': 0})


tfp_units = tfp_with_weights['Units'].value_counts()
print("Units used for Total factor productivity:\n", tfp_units)

tfp_pivoted = tfp_with_weights.pivot(
    index=['NAICS', 'Industry', 'Basis', 'year', 'weight'],
    columns='Units',
    values='value'
).reset_index()

tfp_pivoted.columns.name = None

tfp_pivoted = tfp_pivoted.rename(columns={
    'Index (2017=100)': 'tfp_index_2017',
    '% Change from previous year': 'tfp_pct_change'
})

print("\nFirst few rows of pivoted TFP data:")
tfp_pivoted.head()


bds_3_df.head()


bds_3_df = bds_3_df.rename(columns={'vcnaics3': 'NAICS'})


bds_3_df['year'] = bds_3_df['year'].astype(int)
bds_87_on = bds_3_df[bds_3_df['year'] >= 1987]


print("bds_87_on NAICS unique values:", bds_87_on['NAICS'].unique()[:5])
print("tfp_pivoted NAICS unique values:", tfp_pivoted['NAICS'].unique()[:5])


print("bds_87_on columns:", bds_87_on.columns.tolist())
print("tfp_pivoted columns:", tfp_pivoted.columns.tolist())


bds_87_on = bds_87_on.copy()
bds_87_on['NAICS'] = bds_87_on['NAICS'].astype(str)
tfp_pivoted['NAICS'] = tfp_pivoted['NAICS'].astype(str)


tfp_pivoted['year'] = tfp_pivoted['year'].astype(int)

# 6) Now merge
merged = pd.merge(
    bds_87_on,
    tfp_pivoted, 
    on=['NAICS','year'],   
    how='inner'
)


print(merged.dtypes)


object_columns = [
    'estabs_entry', 'estabs_entry_rate', 'estabs_exit', 'estabs_exit_rate',
    'job_creation_births', 'job_creation_rate_births', 'job_destruction_deaths',
    'job_destruction_rate_deaths', 'firmdeath_estabs',
    'tfp_pct_change', 'tfp_index_2017'
]

for col in object_columns:
    merged[col] = pd.to_numeric(merged[col], errors='coerce')

print(merged.dtypes)


pd.set_option('display.max_columns', None)
pd.set_option('display.max_rows', None)

merged.describe()


merged['firmdeath_firms'] = pd.to_numeric(merged['firmdeath_firms'], errors='coerce')
merged['firms'] = pd.to_numeric(merged['firms'], errors='coerce')
merged['firms_percent_destroyed'] = (merged['firmdeath_firms'] / merged['firms']) * 100


output_path = '../processed_data/three_digit_NAICS_bds_tfp.csv'
merged.to_csv(output_path, index=False)
print(f"Data saved to {output_path}")
