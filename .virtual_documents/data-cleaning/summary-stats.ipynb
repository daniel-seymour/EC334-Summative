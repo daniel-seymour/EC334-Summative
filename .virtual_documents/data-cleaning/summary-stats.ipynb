import pandas as pd
import numpy as np
from itertools import product


df = pd.read_csv('../processed_data/three_digit_NAICS_bds_tfp.csv')


pd.set_option('display.max_columns', None)
pd.set_option('display.max_rows', None)
df.describe()


print(df.describe().to_latex())


df['eer'] = (df['job_creation_births'] / df['denom'])*100


hgfs_by_industry = pd.read_csv('../processed_data/hgfs_by_industry.csv')
hgfs_by_industry.head()


hgfs_by_industry.columns


df = pd.merge(df, 
              hgfs_by_industry, 
              left_on=['year', 'NAICS'], 
              right_on=['year', 'vcnaics3'], 
              how='left')

df = df.drop('vcnaics3', axis=1)

print("Merge summary:")
print(f"Total rows in df: {len(df)}")
print(f"Rows with high growth data: {df['pct_high_growth_emp'].notna().sum()}")
print(f"Rows missing high growth data: {df['pct_high_growth_emp'].isna().sum()}")

print("\nSample of merged data:")
print(df[['year', 'NAICS', 'Industry', 'emp', 'pct_high_growth_emp']].head(10))

missing_matches = df[df['pct_high_growth_emp'].isna()][['year', 'NAICS', 'Industry']].drop_duplicates()
if len(missing_matches) > 0:
    print(f"\nSample of unmatched NAICS codes:")
    print(missing_matches.head(10))


df['tfp_log'] = np.log(df['tfp_index_2017'])
df['tfp_diff3'] = df.groupby('NAICS')['tfp_log'].diff(3)
df['tfp_ann_pct'] = (np.exp(df['tfp_diff3'])**(1/3) - 1) * 100


selected_vars = ['tfp_ann_pct', 'tfp_pct_change', 'eer', 'reallocation_rate', 'pct_high_growth_emp']

desc_stats = df[selected_vars].describe()
desc_stats = desc_stats.T
desc_stats = desc_stats[['count', 'mean', 'std', 'min', '25%', '50%', '75%', 'max']]
desc_stats.columns = ['N', 'Mean', 'Std. Dev.', 'Min', 'p25', 'Median', 'p75', 'Max']

row_labels = {
   'tfp_ann_pct': 'Annualised TFP Growth (3-year difference)',
   'tfp_pct_change': 'TFP Growth Rate (%)',
   'eer': 'Employment Entry Rate (%)',
   'reallocation_rate': 'Excess Job Reallocation Rate',
   'pct_high_growth_emp': 'High-Growth Employment Share (%)'
}
desc_stats.index = desc_stats.index.map(row_labels)

desc_stats = desc_stats.round(3)

latex_table = desc_stats.to_latex(
   float_format="%.3f",
   caption="Descriptive Statistics: Firm Dynamics and Productivity Measures",
   label="tab:firm_dynamics_stats",
   column_format='lrrrrrrrr'  # left-align first column, right-align numbers
)

print(latex_table)

with open('../tables/firm_dynamics_stats.tex', 'w') as f:
   f.write(latex_table)

print("\nDescriptive Statistics:")
print(desc_stats)
print("\nLaTeX table saved to: ../tables/firm_dynamics_stats.tex")


corr_vars = ['tfp_ann_pct','tfp_pct_change', 'eer', 'reallocation_rate', 'pct_high_growth_emp']
corr_matrix = df[corr_vars].corr()
print("\nCorrelation Matrix:")
print(corr_matrix.round(3))


corr_matrix.round(3)


years = df['year'].unique()
industries = df['NAICS'].unique() if 'NAICS' in df.columns else df['naics3'].unique()
complete_panel = pd.DataFrame(list(product(years, industries)), 
                            columns=['year', 'NAICS'])

expected_obs = len(years) * len(industries)
actual_obs = len(df)
is_balanced = expected_obs == actual_obs

print(f"Expected observations (if balanced): {expected_obs}")
print(f"Actual observations: {actual_obs}")
print(f"Panel is {'balanced' if is_balanced else 'unbalanced'}")

obs_per_industry = df.groupby('NAICS' if 'NAICS' in df.columns else 'naics3').size()
print(f"\nObservations per industry - Min: {obs_per_industry.min()}, Max: {obs_per_industry.max()}")
print(f"All industries have same number of observations: {obs_per_industry.min() == obs_per_industry.max()}")

if not is_balanced:
    df_check = df[['year', 'NAICS' if 'NAICS' in df.columns else 'naics3']].drop_duplicates()
    df_check['exists'] = 1
    
    complete_check = complete_panel.merge(df_check, 
                                        on=['year', 'NAICS'], 
                                        how='left')
    
    missing = complete_check[complete_check['exists'].isna()]
    print(f"\nNumber of missing industry-year combinations: {len(missing)}")
    print("\nSample of missing observations:")
    print(missing.head(10))
    
    missing_by_industry = missing.groupby('NAICS').size().sort_values(ascending=False)
    print(f"\nIndustries with most missing years:")
    print(missing_by_industry.head())

panel_info = pd.DataFrame({
    'Panel Characteristic': [
        'Total Observations',
        'Number of Industries', 
        'Number of Years',
        'Expected Obs (if balanced)',
        'Missing Observations',
        'Panel Type',
        'Completeness (%)'
    ],
    'Value': [
        actual_obs,
        len(industries),
        len(years),
        expected_obs,
        expected_obs - actual_obs,
        'Balanced' if is_balanced else 'Unbalanced',
        f"{(actual_obs/expected_obs)*100:.1f}%"
    ]
})

print("\nPanel Summary:")
print(panel_info)


folder_path = '../processed_data/'
df.to_csv(folder_path + 'three_digit_NAICS_final.csv', index=False)
