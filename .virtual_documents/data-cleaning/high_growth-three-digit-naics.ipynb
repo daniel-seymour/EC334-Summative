import pandas as pd
filepath = '../raw_data/dynamism_data/bds2022_gr_vcn3.csv'
df = pd.read_csv(filepath, encoding='latin1', low_memory=False)


df.head(20)


print("Number of NaN values in fempgr_gr:", df['fempgr_gr'].isna().sum())
print("Total rows:", len(df))

print("Data type of fempgr_gr:", df['fempgr_gr'].dtype)
print("\nFirst 10 values of fempgr_gr:")
print(df['fempgr_gr'].head(10))

print("\nAny non-NaN values?", df['fempgr_gr'].notna().any())


df['fempgr_gr'].unique()


df.columns


df.dtypes


df['emp'] = pd.to_numeric(df['emp'], errors='coerce')
df['is_high_growth'] = df['fempgr_gr'].isin(['h) [0.8 to 2)', 'i) 2']).astype(int)
df['emp_high_growth'] = df['emp'] * df['is_high_growth']

hgfs_by_industry = df.groupby(['year', 'vcnaics3']).agg({
    'emp_high_growth': 'sum',
    'emp': 'sum'
}).reset_index()

hgfs_by_industry['pct_high_growth_emp'] = (hgfs_by_industry['emp_high_growth'] / hgfs_by_industry['emp']) * 100
hgfs_by_industry = hgfs_by_industry[['year', 'vcnaics3', 'pct_high_growth_emp']]
hgfs_by_industry = hgfs_by_industry.sort_values(['year', 'vcnaics3']).reset_index(drop=True)

print(hgfs_by_industry.head(10))
print(f"\nDataframe shape: {hgfs_by_industry.shape}")


output_path = '../processed_data/hgfs_by_industry.csv'
hgfs_by_industry.to_csv(output_path, index=False)

print(f"CSV file saved to: {output_path}")
print(f"File contains {len(hgfs_by_industry)} rows")
print(hgfs_by_industry.head())
