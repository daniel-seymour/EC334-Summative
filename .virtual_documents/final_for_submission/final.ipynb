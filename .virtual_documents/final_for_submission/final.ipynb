!pip install pandoc








import pandas as pd


filepath = '../raw_data/productivity_data/total-factor-productivity-manufacturing-and-transportation-detailed-industries.xlsx'

manufacturing_tfp = pd.read_excel(filepath)



# 1) Promote row 1 to be the new column‐names
manufacturing_tfp.columns = manufacturing_tfp.iloc[1]

# 2) Drop the first two rows (indices 0 and 1)
manufacturing_tfp = manufacturing_tfp.drop(manufacturing_tfp.index[:2])

# 3) Reset the index so you get a fresh 0,1,2… on the left
manufacturing_tfp = manufacturing_tfp.reset_index(drop=True)


manufacturing_tfp['NAICS'].unique()


# by length
manufacturing_4digit = manufacturing_tfp[
    manufacturing_tfp['NAICS']
      .astype(str)
      .str.len()
    == 4
]


manufacturing_4digit.head()


# assume sectoral_tfp_df is your DataFrame with years as columns

# # 1) If NAICS is the index, pull it out
# filtered_df = filtered_df.reset_index().rename(columns={'index':'NAICS'})

# 2) Melt all the year-columns into a single "year" column
# Make sure filtered_df contains both TFP and Sectoral Output measures
long_df = manufacturing_4digit.melt(
    id_vars=['NAICS', 'IndustryTitle', 'Basis', 'Measure', 'Units'], 
    var_name='year', 
    value_name='value'  # Using a generic name since we'll have both TFP and output values
)


# STEP 4: Separate and process as before
tfp_long = long_df[long_df['Measure'] == 'Total factor productivity'].copy()


# Create the pivot table with only TFP data
tfp_pivoted = tfp_long.pivot(
    index=['NAICS', 'IndustryTitle', 'Basis', 'year'],
    columns='Units',
    values='value'
).reset_index()


tfp_pivoted.head()


# Clean up column names
tfp_pivoted.columns.name = None

# Rename columns to be more code-friendly
tfp_pivoted = tfp_pivoted.rename(columns={
    'Index (2017=100)': 'tfp_index_2017',
    '% Change from previous year': 'tfp_pct_change'
})

# Display a sample of the result
print("\nFirst few rows of pivoted TFP data:")
tfp_pivoted.head()


# make sure the output directory exists
import os
out_dir = "../processed_data"
os.makedirs(out_dir, exist_ok=True)

# write your DataFrame to CSV (no index column)
out_path = os.path.join(out_dir, "tfp_four_digit_pivoted.csv")
tfp_pivoted.to_csv(out_path, index=False)

print(f"Saved pivoted TFP data to {out_path}")
